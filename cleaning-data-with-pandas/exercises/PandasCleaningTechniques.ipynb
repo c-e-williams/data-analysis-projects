{
 "cells": [
  {
   "cell_type": "markdown",
   "metadata": {},
   "source": [
    "# Cleaning Data with Pandas Exercises\n",
    "\n",
    "For the exercises, you will be cleaning data in the Women's Clothing E-Commerce Reviews dataset.\n",
    "\n",
    "To start cleaning data, we first need to create a dataframe from the CSV and print out any relevant info to make sure our dataframe is ready to go."
   ]
  },
  {
   "cell_type": "markdown",
   "metadata": {},
   "source": []
  },
  {
   "cell_type": "code",
   "execution_count": 104,
   "metadata": {},
   "outputs": [],
   "source": [
    "# Import pandas and any other libraries you need here.\n",
    "import pandas as pd\n",
    "\n",
    "# Create a new dataframe from your CSV\n",
    "df = pd.read_csv(\"/Users/cathleen/Downloads/Womens Clothing E-Commerce Reviews.csv\")\n"
   ]
  },
  {
   "cell_type": "code",
   "execution_count": 21,
   "metadata": {},
   "outputs": [
    {
     "name": "stdout",
     "output_type": "stream",
     "text": [
      "<class 'pandas.core.frame.DataFrame'>\n",
      "RangeIndex: 23486 entries, 0 to 23485\n",
      "Data columns (total 11 columns):\n",
      " #   Column                   Non-Null Count  Dtype \n",
      "---  ------                   --------------  ----- \n",
      " 0   Unnamed: 0               23486 non-null  int64 \n",
      " 1   Clothing ID              23486 non-null  int64 \n",
      " 2   Age                      23486 non-null  int64 \n",
      " 3   Title                    19676 non-null  object\n",
      " 4   Review Text              22641 non-null  object\n",
      " 5   Rating                   23486 non-null  int64 \n",
      " 6   Recommended IND          23486 non-null  int64 \n",
      " 7   Positive Feedback Count  23486 non-null  int64 \n",
      " 8   Division Name            23472 non-null  object\n",
      " 9   Department Name          23472 non-null  object\n",
      " 10  Class Name               23472 non-null  object\n",
      "dtypes: int64(6), object(5)\n",
      "memory usage: 2.0+ MB\n",
      "None\n"
     ]
    }
   ],
   "source": [
    "# Print out any information you need to understand your dataframe.\n",
    "\n",
    "# print(df.head(10))\n",
    "# print(df.tail(10))\n",
    "# print(df.shape) #There are 23,486 rows and 11 columns\n",
    "# print(df.info()) #.info confirms the shape and show us where we might find the nulls.  \n",
    "# print(df.describe()) #Taking a look at the statistics of the data.  \n"
   ]
  },
  {
   "cell_type": "markdown",
   "metadata": {},
   "source": [
    "## Missing Data\n",
    "\n",
    "Try out different methods to locate and resolve missing data."
   ]
  },
  {
   "cell_type": "code",
   "execution_count": 74,
   "metadata": {},
   "outputs": [
    {
     "name": "stdout",
     "output_type": "stream",
     "text": [
      "       Unnamed: 0  Clothing ID  Age  \\\n",
      "23476       23476          522   27   \n",
      "23477       23477         1094   39   \n",
      "23478       23478         1104   32   \n",
      "23479       23479         1005   42   \n",
      "23480       23480          862   35   \n",
      "23481       23481         1104   34   \n",
      "23482       23482          862   48   \n",
      "23483       23483         1104   31   \n",
      "23484       23484         1084   28   \n",
      "23485       23485         1104   52   \n",
      "\n",
      "                                                   Title  \\\n",
      "23476                                            Cheeky!   \n",
      "23477                                         Entrancing   \n",
      "23478                                       Unflattering   \n",
      "23479                                  What a fun piece!   \n",
      "23480                                                NaN   \n",
      "23481                     Great dress for many occasions   \n",
      "23482                         Wish it was made of cotton   \n",
      "23483                              Cute, but see through   \n",
      "23484  Very cute dress, perfect for summer parties an...   \n",
      "23485                    Please make more like this one!   \n",
      "\n",
      "                                             Review Text  Rating  \\\n",
      "23476  These bottoms are very cute but defiantly chee...       4   \n",
      "23477  I'm so impressed with the beautiful color comb...       4   \n",
      "23478  I was surprised at the positive reviews for th...       1   \n",
      "23479  So i wasn't sure about ordering this skirt bec...       5   \n",
      "23480                                                NaN       5   \n",
      "23481  I was very happy to snag this dress at such a ...       5   \n",
      "23482  It reminds me of maternity clothes. soft, stre...       3   \n",
      "23483  This fit well, but the top was very see throug...       3   \n",
      "23484  I bought this dress for a wedding i have this ...       3   \n",
      "23485  This dress in a lovely platinum is feminine an...       5   \n",
      "\n",
      "       Recommended IND  Positive Feedback Count   Division Name  \\\n",
      "23476                1                        0       Initmates   \n",
      "23477                1                        5  General Petite   \n",
      "23478                0                        0  General Petite   \n",
      "23479                1                        0  General Petite   \n",
      "23480                1                        0  General Petite   \n",
      "23481                1                        0  General Petite   \n",
      "23482                1                        0  General Petite   \n",
      "23483                0                        1  General Petite   \n",
      "23484                1                        2         General   \n",
      "23485                1                       22  General Petite   \n",
      "\n",
      "      Department Name Class Name  \n",
      "23476        Intimate       Swim  \n",
      "23477         Dresses    Dresses  \n",
      "23478         Dresses    Dresses  \n",
      "23479         Bottoms     Skirts  \n",
      "23480            Tops      Knits  \n",
      "23481         Dresses    Dresses  \n",
      "23482            Tops      Knits  \n",
      "23483         Dresses    Dresses  \n",
      "23484         Dresses    Dresses  \n",
      "23485         Dresses    Dresses  \n"
     ]
    }
   ],
   "source": [
    "# Try to find some missing data!   \n",
    "import pandas as pd \n",
    "# print(df.isnull)\n",
    "# print(df.isnull().sum())\n",
    "\n",
    "#  I don't think 'Title\" or 'Review Text\" , so I can fill those in with \"not submitted\"\n",
    "# df.fillna(\"Left Blank\")\n",
    "print(df.tail(10))\n",
    "\n",
    "\n"
   ]
  },
  {
   "cell_type": "markdown",
   "metadata": {},
   "source": [
    "Did you find any missing data? What things worked well for you and what did not?"
   ]
  },
  {
   "cell_type": "code",
   "execution_count": 70,
   "metadata": {},
   "outputs": [],
   "source": [
    "# Respond to the above questions here:\n",
    "# Using  print(df.isnull().sum()) was a lot more helpful.  I can see that 3,810 entries are missing a title, 845 have no review, and 14 ar missing Division Name, Department Name, and Class name. \n",
    "#  I also know for looking at the data set in Google Sheets that rows 23488 and 23489 are missing all the data fields.\n"
   ]
  },
  {
   "cell_type": "markdown",
   "metadata": {},
   "source": [
    "## Irregular Data\n",
    "\n",
    "With missing data out of the way, turn your attention to any outliers. Just as we did for missing data, we first need to detect the outliers."
   ]
  },
  {
   "cell_type": "code",
   "execution_count": 106,
   "metadata": {},
   "outputs": [
    {
     "ename": "ValueError",
     "evalue": "could not convert string to float: 'Some major design flaws'",
     "output_type": "error",
     "traceback": [
      "\u001b[0;31m---------------------------------------------------------------------------\u001b[0m",
      "\u001b[0;31mValueError\u001b[0m                                Traceback (most recent call last)",
      "Cell \u001b[0;32mIn[106], line 30\u001b[0m\n\u001b[1;32m      1\u001b[0m \u001b[38;5;66;03m# Keep an eye out for outliers!\u001b[39;00m\n\u001b[1;32m      2\u001b[0m \n\u001b[1;32m      3\u001b[0m \u001b[38;5;66;03m# import pandas as pd\u001b[39;00m\n\u001b[0;32m   (...)\u001b[0m\n\u001b[1;32m     26\u001b[0m \u001b[38;5;66;03m# outliers = (df['Rating'] > 4.2 + 3 * 1.1)\u001b[39;00m\n\u001b[1;32m     27\u001b[0m \u001b[38;5;66;03m# sum(outliers)\u001b[39;00m\n\u001b[1;32m     29\u001b[0m \u001b[38;5;28;01mimport\u001b[39;00m \u001b[38;5;21;01mpandas\u001b[39;00m \u001b[38;5;28;01mas\u001b[39;00m \u001b[38;5;21;01mpd\u001b[39;00m\n\u001b[0;32m---> 30\u001b[0m \u001b[43mdf\u001b[49m\u001b[38;5;241;43m.\u001b[39;49m\u001b[43mcorr\u001b[49m\u001b[43m(\u001b[49m\u001b[43m)\u001b[49m\n",
      "File \u001b[0;32m~/data-analysis-projects/venv/lib/python3.12/site-packages/pandas/core/frame.py:11049\u001b[0m, in \u001b[0;36mDataFrame.corr\u001b[0;34m(self, method, min_periods, numeric_only)\u001b[0m\n\u001b[1;32m  11047\u001b[0m cols \u001b[38;5;241m=\u001b[39m data\u001b[38;5;241m.\u001b[39mcolumns\n\u001b[1;32m  11048\u001b[0m idx \u001b[38;5;241m=\u001b[39m cols\u001b[38;5;241m.\u001b[39mcopy()\n\u001b[0;32m> 11049\u001b[0m mat \u001b[38;5;241m=\u001b[39m \u001b[43mdata\u001b[49m\u001b[38;5;241;43m.\u001b[39;49m\u001b[43mto_numpy\u001b[49m\u001b[43m(\u001b[49m\u001b[43mdtype\u001b[49m\u001b[38;5;241;43m=\u001b[39;49m\u001b[38;5;28;43mfloat\u001b[39;49m\u001b[43m,\u001b[49m\u001b[43m \u001b[49m\u001b[43mna_value\u001b[49m\u001b[38;5;241;43m=\u001b[39;49m\u001b[43mnp\u001b[49m\u001b[38;5;241;43m.\u001b[39;49m\u001b[43mnan\u001b[49m\u001b[43m,\u001b[49m\u001b[43m \u001b[49m\u001b[43mcopy\u001b[49m\u001b[38;5;241;43m=\u001b[39;49m\u001b[38;5;28;43;01mFalse\u001b[39;49;00m\u001b[43m)\u001b[49m\n\u001b[1;32m  11051\u001b[0m \u001b[38;5;28;01mif\u001b[39;00m method \u001b[38;5;241m==\u001b[39m \u001b[38;5;124m\"\u001b[39m\u001b[38;5;124mpearson\u001b[39m\u001b[38;5;124m\"\u001b[39m:\n\u001b[1;32m  11052\u001b[0m     correl \u001b[38;5;241m=\u001b[39m libalgos\u001b[38;5;241m.\u001b[39mnancorr(mat, minp\u001b[38;5;241m=\u001b[39mmin_periods)\n",
      "File \u001b[0;32m~/data-analysis-projects/venv/lib/python3.12/site-packages/pandas/core/frame.py:1993\u001b[0m, in \u001b[0;36mDataFrame.to_numpy\u001b[0;34m(self, dtype, copy, na_value)\u001b[0m\n\u001b[1;32m   1991\u001b[0m \u001b[38;5;28;01mif\u001b[39;00m dtype \u001b[38;5;129;01mis\u001b[39;00m \u001b[38;5;129;01mnot\u001b[39;00m \u001b[38;5;28;01mNone\u001b[39;00m:\n\u001b[1;32m   1992\u001b[0m     dtype \u001b[38;5;241m=\u001b[39m np\u001b[38;5;241m.\u001b[39mdtype(dtype)\n\u001b[0;32m-> 1993\u001b[0m result \u001b[38;5;241m=\u001b[39m \u001b[38;5;28;43mself\u001b[39;49m\u001b[38;5;241;43m.\u001b[39;49m\u001b[43m_mgr\u001b[49m\u001b[38;5;241;43m.\u001b[39;49m\u001b[43mas_array\u001b[49m\u001b[43m(\u001b[49m\u001b[43mdtype\u001b[49m\u001b[38;5;241;43m=\u001b[39;49m\u001b[43mdtype\u001b[49m\u001b[43m,\u001b[49m\u001b[43m \u001b[49m\u001b[43mcopy\u001b[49m\u001b[38;5;241;43m=\u001b[39;49m\u001b[43mcopy\u001b[49m\u001b[43m,\u001b[49m\u001b[43m \u001b[49m\u001b[43mna_value\u001b[49m\u001b[38;5;241;43m=\u001b[39;49m\u001b[43mna_value\u001b[49m\u001b[43m)\u001b[49m\n\u001b[1;32m   1994\u001b[0m \u001b[38;5;28;01mif\u001b[39;00m result\u001b[38;5;241m.\u001b[39mdtype \u001b[38;5;129;01mis\u001b[39;00m \u001b[38;5;129;01mnot\u001b[39;00m dtype:\n\u001b[1;32m   1995\u001b[0m     result \u001b[38;5;241m=\u001b[39m np\u001b[38;5;241m.\u001b[39masarray(result, dtype\u001b[38;5;241m=\u001b[39mdtype)\n",
      "File \u001b[0;32m~/data-analysis-projects/venv/lib/python3.12/site-packages/pandas/core/internals/managers.py:1694\u001b[0m, in \u001b[0;36mBlockManager.as_array\u001b[0;34m(self, dtype, copy, na_value)\u001b[0m\n\u001b[1;32m   1692\u001b[0m         arr\u001b[38;5;241m.\u001b[39mflags\u001b[38;5;241m.\u001b[39mwriteable \u001b[38;5;241m=\u001b[39m \u001b[38;5;28;01mFalse\u001b[39;00m\n\u001b[1;32m   1693\u001b[0m \u001b[38;5;28;01melse\u001b[39;00m:\n\u001b[0;32m-> 1694\u001b[0m     arr \u001b[38;5;241m=\u001b[39m \u001b[38;5;28;43mself\u001b[39;49m\u001b[38;5;241;43m.\u001b[39;49m\u001b[43m_interleave\u001b[49m\u001b[43m(\u001b[49m\u001b[43mdtype\u001b[49m\u001b[38;5;241;43m=\u001b[39;49m\u001b[43mdtype\u001b[49m\u001b[43m,\u001b[49m\u001b[43m \u001b[49m\u001b[43mna_value\u001b[49m\u001b[38;5;241;43m=\u001b[39;49m\u001b[43mna_value\u001b[49m\u001b[43m)\u001b[49m\n\u001b[1;32m   1695\u001b[0m     \u001b[38;5;66;03m# The underlying data was copied within _interleave, so no need\u001b[39;00m\n\u001b[1;32m   1696\u001b[0m     \u001b[38;5;66;03m# to further copy if copy=True or setting na_value\u001b[39;00m\n\u001b[1;32m   1698\u001b[0m \u001b[38;5;28;01mif\u001b[39;00m na_value \u001b[38;5;129;01mis\u001b[39;00m lib\u001b[38;5;241m.\u001b[39mno_default:\n",
      "File \u001b[0;32m~/data-analysis-projects/venv/lib/python3.12/site-packages/pandas/core/internals/managers.py:1753\u001b[0m, in \u001b[0;36mBlockManager._interleave\u001b[0;34m(self, dtype, na_value)\u001b[0m\n\u001b[1;32m   1751\u001b[0m     \u001b[38;5;28;01melse\u001b[39;00m:\n\u001b[1;32m   1752\u001b[0m         arr \u001b[38;5;241m=\u001b[39m blk\u001b[38;5;241m.\u001b[39mget_values(dtype)\n\u001b[0;32m-> 1753\u001b[0m     \u001b[43mresult\u001b[49m\u001b[43m[\u001b[49m\u001b[43mrl\u001b[49m\u001b[38;5;241;43m.\u001b[39;49m\u001b[43mindexer\u001b[49m\u001b[43m]\u001b[49m \u001b[38;5;241m=\u001b[39m arr\n\u001b[1;32m   1754\u001b[0m     itemmask[rl\u001b[38;5;241m.\u001b[39mindexer] \u001b[38;5;241m=\u001b[39m \u001b[38;5;241m1\u001b[39m\n\u001b[1;32m   1756\u001b[0m \u001b[38;5;28;01mif\u001b[39;00m \u001b[38;5;129;01mnot\u001b[39;00m itemmask\u001b[38;5;241m.\u001b[39mall():\n",
      "\u001b[0;31mValueError\u001b[0m: could not convert string to float: 'Some major design flaws'"
     ]
    }
   ],
   "source": [
    "# Keep an eye out for outliers!\n",
    "\n",
    "# import pandas as pd\n",
    "# import matplotlib.pyplot as plt\n",
    "# df.plot()\n",
    "# plt.show()\n",
    "\n",
    "\n",
    "# import pandas as pd\n",
    "# import matplotlib.pyplot as plt\n",
    "# df.plot(kind = 'scatter', x = 'Rating', y = 'Class Name')\n",
    "# plt.show()\n",
    "\n",
    "# import pandas as pd\n",
    "# import matplotlib.pyplot as plt\n",
    "# df[\"Age\"].plot(kind = 'hist')\n",
    "# plt.show()\n",
    "\n",
    "# import pandas as pd\n",
    "# import matplotlib.pyplot as plt\n",
    "# df[\"Rating\"].plot(kind = 'hist')\n",
    "# plt.show()\n",
    "\n",
    "# Trying to use statistic on a column to find outliers.\n",
    "# outliers = (df['Rating']) < 4.2 - 3 * 1.1  \n",
    "# outliers = (df['Rating'] > 4.2 + 3 * 1.1)\n",
    "# sum(outliers)\n",
    "\n",
    "\n",
    "\n"
   ]
  },
  {
   "cell_type": "markdown",
   "metadata": {},
   "source": [
    "What techniques helped you find outliers? In your opinion, what about the techniques you used made them effective?"
   ]
  },
  {
   "cell_type": "code",
   "execution_count": null,
   "metadata": {},
   "outputs": [],
   "source": [
    "# Make your notes here:"
   ]
  },
  {
   "cell_type": "markdown",
   "metadata": {},
   "source": [
    "## Unnecessary Data\n",
    "\n",
    "Unnecessary data could be irrelevant to your analysis or a duplice column. Check out the dataset to see if there is any unnecessary data."
   ]
  },
  {
   "cell_type": "code",
   "execution_count": 68,
   "metadata": {},
   "outputs": [
    {
     "name": "stdout",
     "output_type": "stream",
     "text": [
      "0        False\n",
      "1        False\n",
      "2        False\n",
      "3        False\n",
      "4        False\n",
      "         ...  \n",
      "23481    False\n",
      "23482    False\n",
      "23483    False\n",
      "23484    False\n",
      "23485    False\n",
      "Length: 23486, dtype: bool\n"
     ]
    }
   ],
   "source": [
    "# Look out for unnecessary data!\n",
    "# Duplicates, \n",
    "import pandas as pd\n",
    "print(df.duplicated())"
   ]
  },
  {
   "cell_type": "markdown",
   "metadata": {},
   "source": [
    "Did you find any unnecessary data in your dataset? How did you handle it?"
   ]
  },
  {
   "cell_type": "code",
   "execution_count": null,
   "metadata": {},
   "outputs": [],
   "source": [
    "# Make your notes here."
   ]
  },
  {
   "cell_type": "markdown",
   "metadata": {},
   "source": [
    "## Inconsistent Data\n",
    "\n",
    "Inconsistent data is likely due to inconsistent formatting and can be addressed by re-formatting all values in a column or row."
   ]
  },
  {
   "cell_type": "code",
   "execution_count": 96,
   "metadata": {},
   "outputs": [
    {
     "name": "stdout",
     "output_type": "stream",
     "text": [
      "['Initmates' 'General' 'General Petite' nan]\n",
      "['Intimate' 'Dresses' 'Bottoms' 'Tops' 'Jackets' 'Trend' nan]\n",
      "['Intimates' 'Dresses' 'Pants' 'Blouses' 'Knits' 'Outerwear' 'Lounge'\n",
      " 'Sweaters' 'Skirts' 'Fine gauge' 'Sleep' 'Jackets' 'Swim' 'Trend' 'Jeans'\n",
      " 'Legwear' 'Shorts' 'Layering' 'Casual bottoms' nan 'Chemises']\n",
      "[ 767 1080 1077 ...  181  721  522]\n"
     ]
    }
   ],
   "source": [
    "# Look out for inconsistent data!\n",
    "import pandas as pd\n",
    "# get all the unique values in the 'Division Name' column\n",
    "# returns ['Initmates' 'General' 'General Petite' nan]\n",
    "division = df['Division Name'].unique()\n",
    "print(division)\n",
    "\n",
    "# get all the unique values in the 'Department Name' column\n",
    "# returns ['Intimate' 'Dresses' 'Bottoms' 'Tops' 'Jackets' 'Trend' nan]\n",
    "department = df['Department Name'].unique()\n",
    "print(department)\n",
    "\n",
    "\n",
    "# get all the unique values in the 'Class Name' column\n",
    "# returns ['Intimate' 'Dresses' 'Bottoms' 'Tops' 'Jackets' 'Trend' nan]\n",
    "kind = df['Class Name'].unique()\n",
    "print(kind)\n",
    "\n",
    "# get all the unique values in the 'Clothing ID' column\n",
    "# returns \n",
    "number = df['Clothing ID'].unique()\n",
    "print(number)\n",
    "\n"
   ]
  },
  {
   "cell_type": "markdown",
   "metadata": {},
   "source": [
    "Did you find any inconsistent data? What did you do to clean it?"
   ]
  },
  {
   "cell_type": "code",
   "execution_count": 110,
   "metadata": {},
   "outputs": [],
   "source": [
    "# Make your notes here!\n",
    "# I only found one instance of inconsistent data.  Intimates with the final 's' left off. \n"
   ]
  }
 ],
 "metadata": {
  "kernelspec": {
   "display_name": "venv",
   "language": "python",
   "name": "python3"
  },
  "language_info": {
   "codemirror_mode": {
    "name": "ipython",
    "version": 3
   },
   "file_extension": ".py",
   "mimetype": "text/x-python",
   "name": "python",
   "nbconvert_exporter": "python",
   "pygments_lexer": "ipython3",
   "version": "3.12.5"
  }
 },
 "nbformat": 4,
 "nbformat_minor": 2
}
